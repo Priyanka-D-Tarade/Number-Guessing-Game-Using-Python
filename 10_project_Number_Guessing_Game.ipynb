{
 "cells": [
  {
   "cell_type": "code",
   "execution_count": null,
   "id": "0d649318",
   "metadata": {},
   "outputs": [],
   "source": [
    "\"\"\"\n",
    "Algorithm:\n",
    "         1)system has taken a number and we have to guess\n",
    "         2)input guess number\n",
    "         counter=1\n",
    "         3)while guess== number matched\n",
    "              if number is lower:\n",
    "                     guess higher\n",
    "              else\n",
    "                    guess lower\n",
    "         4)counter+=1\n",
    "         \n",
    "            print(\"Right answer\")\n",
    "         \"\"\""
   ]
  },
  {
   "cell_type": "code",
   "execution_count": 1,
   "id": "c061d36e",
   "metadata": {},
   "outputs": [],
   "source": [
    "import random\n"
   ]
  },
  {
   "cell_type": "code",
   "execution_count": 2,
   "id": "8760a5fc",
   "metadata": {},
   "outputs": [],
   "source": [
    "num=random.randint(1,100)\n"
   ]
  },
  {
   "cell_type": "code",
   "execution_count": null,
   "id": "cc550434",
   "metadata": {},
   "outputs": [],
   "source": []
  },
  {
   "cell_type": "code",
   "execution_count": 3,
   "id": "9961f695",
   "metadata": {},
   "outputs": [
    {
     "name": "stdout",
     "output_type": "stream",
     "text": [
      "Enter the number34\n",
      "guess higher\n",
      "Enter the number78\n",
      "guess higher\n",
      "Enter the number89\n",
      "guess lower\n",
      "Enter the number80\n",
      "guess higher\n",
      "Enter the number85\n",
      "guess lower\n",
      "Enter the number84\n",
      "guess lower\n",
      "Enter the number83\n",
      "Right answer\n",
      "You took 7 attempts\n"
     ]
    }
   ],
   "source": [
    "#now we have to guess\n",
    "guess=int(input(\"Enter the number\"))\n",
    "counter=1\n",
    "\n",
    "while guess != num:\n",
    "    if guess < num:\n",
    "        print(\"guess higher\")\n",
    "    else:\n",
    "        print(\"guess lower\")\n",
    "    \n",
    "    guess=int(input(\"Enter the number\"))\n",
    "    counter+=1\n",
    "\n",
    "print(\"Right answer\")\n",
    "print(\"You took\",counter,\"attempts\")"
   ]
  },
  {
   "cell_type": "code",
   "execution_count": null,
   "id": "84ab768d",
   "metadata": {},
   "outputs": [],
   "source": []
  }
 ],
 "metadata": {
  "kernelspec": {
   "display_name": "Python 3",
   "language": "python",
   "name": "python3"
  },
  "language_info": {
   "codemirror_mode": {
    "name": "ipython",
    "version": 3
   },
   "file_extension": ".py",
   "mimetype": "text/x-python",
   "name": "python",
   "nbconvert_exporter": "python",
   "pygments_lexer": "ipython3",
   "version": "3.8.8"
  }
 },
 "nbformat": 4,
 "nbformat_minor": 5
}
